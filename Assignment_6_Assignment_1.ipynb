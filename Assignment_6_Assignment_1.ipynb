{
 "cells": [
  {
   "cell_type": "code",
   "execution_count": 4,
   "id": "8c435d0c",
   "metadata": {},
   "outputs": [
    {
     "name": "stdout",
     "output_type": "stream",
     "text": [
      "Name: John Doe, DOB: 1990-05-15, Height: 175, City: Mumbai, State: Maharashtra\n",
      "Name: Jane Smith, DOB: 1988-10-20, Height: 162, City: Delhi, State: Delhi\n",
      "Name: Michael Johnson, DOB: 1985-03-08, Height: 183, City: Bangalore, State: Karnataka\n",
      "Name: Emily Brown, DOB: 1992-11-30, Height: 170, City: Chennai, State: Tamil Nadu\n",
      "Name: William Taylor, DOB: 1993-07-22, Height: 178, City: Kolkata, State: West Bengal\n"
     ]
    }
   ],
   "source": [
    "import json\n",
    "class Employee:\n",
    "    def __init__(self, name, dob, height, city, state):\n",
    "        self.name = name\n",
    "        self.dob = dob\n",
    "        self.height = height\n",
    "        self.city = city\n",
    "        self.state = state\n",
    "with open('employee.json', 'r') as file:\n",
    "    employee_data = json.load(file)\n",
    "employee_objects = []\n",
    "for emp_info in employee_data:\n",
    "    employee = Employee(\n",
    "        emp_info['Name'],\n",
    "        emp_info['DOB'],\n",
    "        emp_info['Height'],\n",
    "        emp_info['City'],\n",
    "        emp_info['State']\n",
    "    )\n",
    "    employee_objects.append(employee)\n",
    "for employee in employee_objects:\n",
    "    print(f\"Name: {employee.name}, DOB: {employee.dob}, Height: {employee.height}, City: {employee.city}, State: {employee.state}\")\n"
   ]
  },
  {
   "cell_type": "code",
   "execution_count": 5,
   "id": "057b7601",
   "metadata": {},
   "outputs": [],
   "source": [
    "indian_states = {\n",
    "    \"Andhra Pradesh\": \"Hyderabad\",\n",
    "    \"Arunachal Pradesh\": \"Itanagar\",\n",
    "    \"Assam\": \"Dispur\",\n",
    "    \"Bihar\": \"Patna\",\n",
    "    \"Gujarat\": \"Gandhinagar\",\n",
    "    \"Karnataka\": \"Bengaluru\",\n",
    "    \"Maharashtra\": \"Mumbai\"\n",
    "}\n",
    "\n",
    "# Write the dictionary to a JSON file\n",
    "with open('indian_states.json', 'w') as file:\n",
    "    json.dump(indian_states, file, indent=4)\n"
   ]
  },
  {
   "cell_type": "code",
   "execution_count": null,
   "id": "81f10480",
   "metadata": {},
   "outputs": [],
   "source": []
  }
 ],
 "metadata": {
  "kernelspec": {
   "display_name": "Python 3 (ipykernel)",
   "language": "python",
   "name": "python3"
  },
  "language_info": {
   "codemirror_mode": {
    "name": "ipython",
    "version": 3
   },
   "file_extension": ".py",
   "mimetype": "text/x-python",
   "name": "python",
   "nbconvert_exporter": "python",
   "pygments_lexer": "ipython3",
   "version": "3.9.7"
  }
 },
 "nbformat": 4,
 "nbformat_minor": 5
}
