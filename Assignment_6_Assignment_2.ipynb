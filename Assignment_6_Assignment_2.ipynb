{
 "cells": [
  {
   "cell_type": "code",
   "execution_count": 3,
   "id": "4ac1ff2a",
   "metadata": {},
   "outputs": [
    {
     "name": "stdout",
     "output_type": "stream",
     "text": [
      "Enter the dog's name: janey\n",
      "Enter the dog's age: 3\n",
      "Enter the dog's coat color: red\n",
      "Enter the breed (JackRussellTerrier or Bulldog): Bulldog\n",
      "Enter the strength of the Bulldog: strong\n",
      "janey is a Bulldog and is 3 years old.\n",
      "janey's coat color is red.\n",
      "janey is a great guard dog!\n"
     ]
    }
   ],
   "source": [
    "class Dog:\n",
    "    def __init__(self, name, age, coat_color):\n",
    "        self.name = name\n",
    "        self.age = age\n",
    "        self.coat_color = coat_color\n",
    "    def description(self):\n",
    "        print(f\"{self.name} is {self.age} years old.\")\n",
    "    def get_info(self):\n",
    "        print(f\"{self.name}'s coat color is {self.coat_color}.\")\n",
    "class JackRussellTerrier(Dog):\n",
    "    def __init__(self, name, age, coat_color, unique_trait):\n",
    "        super().__init__(name, age, coat_color)\n",
    "        self.unique_trait = unique_trait\n",
    "\n",
    "    def description(self):\n",
    "        print(f\"{self.name} is a Jack Russell Terrier and is {self.age} years old.\")\n",
    "\n",
    "    def fetch_ball(self):\n",
    "        print(f\"{self.name} loves to fetch the ball!\")\n",
    "class Bulldog(Dog):\n",
    "    def __init__(self, name, age, coat_color, strength):\n",
    "        super().__init__(name, age, coat_color)\n",
    "        self.strength = strength\n",
    "\n",
    "    def description(self):\n",
    "        print(f\"{self.name} is a Bulldog and is {self.age} years old.\")\n",
    "\n",
    "    def guard_house(self):\n",
    "        print(f\"{self.name} is a great guard dog!\")\n",
    "        \n",
    "def create_dog():\n",
    "    name = input(\"Enter the dog's name: \")\n",
    "    age = int(input(\"Enter the dog's age: \"))\n",
    "    coat_color = input(\"Enter the dog's coat color: \")\n",
    "    breed = input(\"Enter the breed (JackRussellTerrier or Bulldog): \")\n",
    "\n",
    "    if breed == \"JackRussellTerrier\":\n",
    "        unique_trait = input(\"Enter a unique trait of the Jack Russell Terrier: \")\n",
    "        return JackRussellTerrier(name, age, coat_color, unique_trait)\n",
    "    elif breed == \"Bulldog\":\n",
    "        strength = input(\"Enter the strength of the Bulldog: \")\n",
    "        return Bulldog(name, age, coat_color, strength)\n",
    "    else:\n",
    "        return Dog(name, age, coat_color)\n",
    "dog = create_dog()\n",
    "dog.description()\n",
    "dog.get_info()\n",
    "if isinstance(dog, JackRussellTerrier):\n",
    "    dog.fetch_ball()\n",
    "elif isinstance(dog, Bulldog):\n",
    "    dog.guard_house()\n"
   ]
  },
  {
   "cell_type": "code",
   "execution_count": null,
   "id": "319b7b43",
   "metadata": {},
   "outputs": [],
   "source": []
  }
 ],
 "metadata": {
  "kernelspec": {
   "display_name": "Python 3 (ipykernel)",
   "language": "python",
   "name": "python3"
  },
  "language_info": {
   "codemirror_mode": {
    "name": "ipython",
    "version": 3
   },
   "file_extension": ".py",
   "mimetype": "text/x-python",
   "name": "python",
   "nbconvert_exporter": "python",
   "pygments_lexer": "ipython3",
   "version": "3.9.7"
  }
 },
 "nbformat": 4,
 "nbformat_minor": 5
}
